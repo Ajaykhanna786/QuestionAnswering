{
 "cells": [
  {
   "cell_type": "code",
   "execution_count": 1,
   "id": "cb141a9e",
   "metadata": {},
   "outputs": [],
   "source": [
    "from langchain import PromptTemplate\n",
    "from langchain.chains import RetrievalQA\n",
    "from langchain.embeddings import HuggingFaceEmbeddings\n",
    "from langchain.vectorstores import FAISS\n",
    "from langchain.document_loaders import PyPDFLoader, DirectoryLoader\n",
    "from langchain.document_loaders import TextLoader\n",
    "from langchain.text_splitter import RecursiveCharacterTextSplitter\n",
    "from langchain.llms import CTransformers\n",
    "import sys\n",
    "import datetime"
   ]
  },
  {
   "cell_type": "code",
   "execution_count": 2,
   "id": "c1aa1f3f",
   "metadata": {},
   "outputs": [],
   "source": [
    "\n",
    "loader = TextLoader(\"llama2_text.txt\")\n",
    "documents=loader.load()"
   ]
  },
  {
   "cell_type": "code",
   "execution_count": 3,
   "id": "b3f6afb6",
   "metadata": {},
   "outputs": [
    {
     "name": "stdout",
     "output_type": "stream",
     "text": [
      "[Document(page_content='Please complete this survey.\\nSurvey!\\nPRIMARY APPLICANT DETAILS\\nAppointment(s) Made By:\\nAjay Kumar\\nNumber of Applicants:\\n1\\nPassport Number:\\nT2849736\\nVisa Class:\\nL-1 (Blanket)\\nVisa Category:\\nL-1 (Blanket)\\nVisa Priority:\\nEnglish\\nDS-160 Confirmation Number:\\nAA00C9ZLS1\\nOFC APPOINTMENT DETAILS\\nNumber of OFC Appointments:\\n1\\nOFC Appointment Number:\\n1\\nApplicant Name:\\nAjay Kumar\\nEmbassy/Consulate/OFC:\\nCHENNAI VAC\\nStreet Address:\\nNo 82, Kodambakkam High Road,\\nStreet Address Cont.:\\nNungambakkam,', metadata={'source': 'llama2_text.txt'}), Document(page_content='Nungambakkam,\\nCity, Postal Code:\\nChennai, 600034\\nOFC Appointment Date:\\n8/30/2023 9:30:00 AM\\nCONSULAR APPOINTMENT DETAILS\\nNumber of Consular Appointments:\\n1\\nConsular Appointment Number:\\n1\\nApplicant Name:\\nAjay Kumar\\nEmbassy/Consulate/OFC:\\nCHENNAI\\nStreet Address:\\n220 Anna Salai, Opp.Gemini Flyover,\\nStreet Address Cont.:\\nGemini Circle,', metadata={'source': 'llama2_text.txt'})]\n"
     ]
    }
   ],
   "source": [
    "text_splitter=RecursiveCharacterTextSplitter(\n",
    "                                             chunk_size=500,\n",
    "                                             chunk_overlap=20)\n",
    "text_chunks=text_splitter.split_documents(documents)\n",
    "\n",
    "print(text_chunks)"
   ]
  },
  {
   "cell_type": "code",
   "execution_count": 32,
   "id": "00bc87fb",
   "metadata": {},
   "outputs": [
    {
     "name": "stdout",
     "output_type": "stream",
     "text": [
      "34\n"
     ]
    }
   ],
   "source": [
    "text_chunks=text_splitter.split_documents(documents)\n",
    "\n",
    "print(len(text_chunks))"
   ]
  },
  {
   "cell_type": "code",
   "execution_count": 33,
   "id": "56b3df5d",
   "metadata": {},
   "outputs": [],
   "source": [
    "embeddings=HuggingFaceEmbeddings(model_name='sentence-transformers/all-MiniLM-L6-v2', model_kwargs={'device':'cpu'})\n",
    "\n",
    "\n",
    "#Step 4: Convert the Text Chunks into Embeddings and Create a FAISS Vector Store\n",
    "vector_store=FAISS.from_documents(text_chunks, embeddings)\n",
    "\n"
   ]
  },
  {
   "cell_type": "code",
   "execution_count": 34,
   "id": "60c54a51",
   "metadata": {},
   "outputs": [
    {
     "data": {
      "text/plain": [
       "VectorStoreRetriever(tags=None, metadata=None, vectorstore=<langchain.vectorstores.faiss.FAISS object at 0x000001D23F9F0F40>, search_type='similarity', search_kwargs={'k': 2})"
      ]
     },
     "execution_count": 34,
     "metadata": {},
     "output_type": "execute_result"
    }
   ],
   "source": [
    "vector_store.as_retriever(search_kwargs={'k': 2})"
   ]
  },
  {
   "cell_type": "code",
   "execution_count": 35,
   "id": "17ca39d1",
   "metadata": {},
   "outputs": [],
   "source": [
    "llm=CTransformers(model=\"llama-2-7b-chat.ggmlv3.q4_0.bin\",\n",
    "                  model_type=\"llama\",\n",
    "                  config={'max_new_tokens':500,\n",
    "                          'temperature':0.1})"
   ]
  },
  {
   "cell_type": "code",
   "execution_count": 36,
   "id": "00c96b0e",
   "metadata": {},
   "outputs": [],
   "source": [
    "template=\"\"\"Use the following pieces of information to answer the user's question.\n",
    "If you dont know the answer just say you know, don't try to make up an answer.\n",
    "\n",
    "Context:{context}\n",
    "Question:{question}\n",
    "\n",
    "Only return the helpful answer below and nothing else\n",
    "Helpful answer\n",
    "\"\"\"\n",
    "\n",
    "qa_prompt=PromptTemplate(template=template, input_variables=['context', 'question'])\n",
    "\n",
    "\n",
    "\n",
    "chain = RetrievalQA.from_chain_type(llm=llm,\n",
    "                                   chain_type='stuff',\n",
    "                                   retriever=vector_store.as_retriever(search_kwargs={'k': 2}),\n",
    "                                   return_source_documents=True,\n",
    "                                   chain_type_kwargs={'prompt': qa_prompt})"
   ]
  },
  {
   "cell_type": "code",
   "execution_count": null,
   "id": "48faa628",
   "metadata": {},
   "outputs": [],
   "source": [
    "question=\"when was llama announced?\"\n",
    "result=chain({'query':question})\n",
    "print(result['result'])"
   ]
  }
 ],
 "metadata": {
  "kernelspec": {
   "display_name": "Python310",
   "language": "python",
   "name": "python310"
  },
  "language_info": {
   "codemirror_mode": {
    "name": "ipython",
    "version": 3
   },
   "file_extension": ".py",
   "mimetype": "text/x-python",
   "name": "python",
   "nbconvert_exporter": "python",
   "pygments_lexer": "ipython3",
   "version": "3.10.12"
  }
 },
 "nbformat": 4,
 "nbformat_minor": 5
}
